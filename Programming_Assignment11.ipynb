{
 "cells": [
  {
   "cell_type": "markdown",
   "id": "e2057f25",
   "metadata": {},
   "source": [
    "Q1.Write a Python program to find words which are greater than given length k?"
   ]
  },
  {
   "cell_type": "code",
   "execution_count": 1,
   "id": "4c872aa5",
   "metadata": {},
   "outputs": [
    {
     "name": "stdout",
     "output_type": "stream",
     "text": [
      "Keep\n",
      "Safe\n"
     ]
    }
   ],
   "source": [
    "def word_k(k, s):    \n",
    "    # split the string where space comes\n",
    "    word = s.split(\" \")\n",
    "    # iterate the loop for every word\n",
    "    for x in word:\n",
    "        # if length of current word\n",
    "        if len(x)>k:\n",
    "          # greater than k then\n",
    "          print(x)\n",
    "k = 3\n",
    "s =\"Keep it Safe\"\n",
    "word_k(k, s)"
   ]
  },
  {
   "cell_type": "markdown",
   "id": "b01d6b26",
   "metadata": {},
   "source": [
    "Q2.Write a Python program for removing i-th character from a string?"
   ]
  },
  {
   "cell_type": "code",
   "execution_count": 2,
   "id": "068596e8",
   "metadata": {},
   "outputs": [
    {
     "name": "stdout",
     "output_type": "stream",
     "text": [
      "Wealloverains\n"
     ]
    }
   ],
   "source": [
    "def remove_char(s, i):\n",
    "    a = s[ : i]\n",
    "    b = s[i + 1: ]\n",
    "\n",
    "    return a+b\n",
    "\n",
    "string = \"Weallloverains\"\n",
    "# Remove ith index element\n",
    "i = 5\n",
    "print(remove_char(string,i-1))"
   ]
  },
  {
   "cell_type": "markdown",
   "id": "d7b15baa",
   "metadata": {},
   "source": [
    "Q3.Write a Python program to split and join a string?"
   ]
  },
  {
   "cell_type": "code",
   "execution_count": 4,
   "id": "79d5fe3a",
   "metadata": {},
   "outputs": [
    {
     "name": "stdout",
     "output_type": "stream",
     "text": [
      "The string after splitting is:  ['Please', 'Be', 'Kind', 'To', 'People']\n",
      "The string after joining is:  Please#Be#Kind#To#People\n"
     ]
    }
   ],
   "source": [
    "def splitting(str):\n",
    "    # Split based on the space delimiter\n",
    "    list = str.split(' ')\n",
    "    return list\n",
    "def joining(list):\n",
    "    # Join based on the '#' delimiter\n",
    "    str = '#'.join(list)\n",
    "    return str\n",
    "str = 'Please Be Kind To People'\n",
    "# Split the string\n",
    "list = splitting(str)\n",
    "print(\"The string after splitting is: \",list)\n",
    "# Joining the list of strings into one\n",
    "restoring = joining(list)\n",
    "print(\"The string after joining is: \",restoring)"
   ]
  },
  {
   "cell_type": "markdown",
   "id": "07723af7",
   "metadata": {},
   "source": [
    "Q4.Write a Python to check if a given string is binary string or not?"
   ]
  },
  {
   "cell_type": "code",
   "execution_count": 9,
   "id": "f9ebf823",
   "metadata": {},
   "outputs": [
    {
     "name": "stdout",
     "output_type": "stream",
     "text": [
      "String_a is a binary string.\n",
      "String_b is not a binary string.\n"
     ]
    }
   ],
   "source": [
    "string_a = '01110001010101'\n",
    "b = {'0','1'}\n",
    "t = set(string_a)\n",
    "\n",
    "if b == t or t == {'0'} or t == {'1'}:\n",
    "    print(\"String_a is a binary string.\")\n",
    "else:\n",
    "    print(\"String_a is not a binary string.\")\n",
    "\n",
    "string_b= '010101202010101'\n",
    "u = set(string_b)\n",
    "\n",
    "if b == u or u == {'0'} or u == {'1'}:\n",
    "    print(\"String_b is a binary string.\")\n",
    "else:\n",
    "    print(\"String_b is not a binary string.\")"
   ]
  },
  {
   "cell_type": "markdown",
   "id": "97d8ec99",
   "metadata": {},
   "source": [
    "Q5.Write a Python program to find uncommon words from two Strings?"
   ]
  },
  {
   "cell_type": "code",
   "execution_count": 10,
   "id": "882960c7",
   "metadata": {},
   "outputs": [
    {
     "name": "stdout",
     "output_type": "stream",
     "text": [
      "['Food']\n"
     ]
    }
   ],
   "source": [
    "def find_uncom(s1, s2):\n",
    "    count = {}\n",
    "    for word in s1.split():\n",
    "        count[word] = count.get(word, 0) + 1\n",
    "    # words of string s2\n",
    "    for word in s2.split():\n",
    "        count[word] = count.get(word, 0) + 1\n",
    "    # return required list of words\n",
    "    return [word for word in count if count[word] == 1]\n",
    "\n",
    "s1=\"Always Eat Healthy\"\n",
    "s2=\"Always Eat Healthy Food\"\n",
    "  \n",
    "# Print required answer\n",
    "print(find_uncom(s1, s2))"
   ]
  },
  {
   "cell_type": "markdown",
   "id": "4a6bcb81",
   "metadata": {},
   "source": [
    "Q6.Write a Python to find all duplicate characters in string?"
   ]
  },
  {
   "cell_type": "code",
   "execution_count": 11,
   "id": "2af6edf3",
   "metadata": {},
   "outputs": [
    {
     "name": "stdout",
     "output_type": "stream",
     "text": [
      "Knowledge\n",
      "The duplicate characters are ['e']\n"
     ]
    }
   ],
   "source": [
    "string = input()\n",
    "find_duplicate=[]\n",
    "for c in string:\n",
    "  if string.count(c)>1 and c not in find_duplicate:\n",
    "    find_duplicate.append(c)\n",
    "print('The duplicate characters are {}'.format(find_duplicate))"
   ]
  },
  {
   "cell_type": "markdown",
   "id": "2ed834c7",
   "metadata": {},
   "source": [
    "Q7.Write a Python Program to check if a string contains any special character?"
   ]
  },
  {
   "cell_type": "code",
   "execution_count": 13,
   "id": "01b7a5f3",
   "metadata": {},
   "outputs": [
    {
     "name": "stdout",
     "output_type": "stream",
     "text": [
      "LearnPython\n",
      "string does not contain special character\n"
     ]
    }
   ],
   "source": [
    "import re\n",
    "\n",
    "def check_special(string):\n",
    "    special_char=re.compile('[@_!$%^&*()<>?/\\|}{~:]#')\n",
    "    \n",
    "    if special_char.search(string) == None:\n",
    "        return \"string does not contain special character\"\n",
    "    else:\n",
    "        return \"string contains special character\"\n",
    "   \n",
    "\n",
    "s=\"LearnPython\"\n",
    "print(s)\n",
    "\n",
    "print(check_special(s))"
   ]
  },
  {
   "cell_type": "code",
   "execution_count": null,
   "id": "6f5bbce8",
   "metadata": {},
   "outputs": [],
   "source": []
  }
 ],
 "metadata": {
  "kernelspec": {
   "display_name": "Python 3 (ipykernel)",
   "language": "python",
   "name": "python3"
  },
  "language_info": {
   "codemirror_mode": {
    "name": "ipython",
    "version": 3
   },
   "file_extension": ".py",
   "mimetype": "text/x-python",
   "name": "python",
   "nbconvert_exporter": "python",
   "pygments_lexer": "ipython3",
   "version": "3.9.12"
  }
 },
 "nbformat": 4,
 "nbformat_minor": 5
}
