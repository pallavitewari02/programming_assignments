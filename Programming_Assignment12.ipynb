{
 "cells": [
  {
   "cell_type": "markdown",
   "id": "edd365b6",
   "metadata": {},
   "source": [
    "Q1. Write a Python program to Extract Unique values dictionary values?"
   ]
  },
  {
   "cell_type": "code",
   "execution_count": 9,
   "id": "13b70a5c",
   "metadata": {},
   "outputs": [
    {
     "name": "stdout",
     "output_type": "stream",
     "text": [
      "The original dictionary is :  {'A': [21, 10, 4, 2, 4], 'B': [1, 5, 3, 8], 'C': [11, 2, 90, 44], 'D': [1, 2, 3, 7, 8, 9]}\n",
      "The unique values list is :  [1, 2, 3, 4, 5, 7, 8, 9, 10, 11, 21, 44, 90]\n"
     ]
    }
   ],
   "source": [
    "dict1 = {'A' : [21,10,4,2,4],\n",
    "             'B' : [1,5,3,8],\n",
    "             'C' : [11,2,90,44],\n",
    "             'D' : [1,2,3,7,8,9]}\n",
    "\n",
    "print(\"The original dictionary is : \" ,dict1)\n",
    "  \n",
    "\n",
    "res = list(sorted({ele for val in dict1.values() for ele in val}))\n",
    "  \n",
    "# print result \n",
    "print(\"The unique values list is : \" , res) \n"
   ]
  },
  {
   "cell_type": "markdown",
   "id": "8924c317",
   "metadata": {},
   "source": [
    "Q2.Write a Python program to find the sum of all items in a dictionary?"
   ]
  },
  {
   "cell_type": "code",
   "execution_count": 1,
   "id": "28bd4f4f",
   "metadata": {},
   "outputs": [
    {
     "name": "stdout",
     "output_type": "stream",
     "text": [
      "Dictionary:  {'x': 12, 'y': 2, 'z': 22, 'p': 42}\n",
      "sum:  78\n"
     ]
    }
   ],
   "source": [
    "dic={ 'x':12, 'y':2, 'z':22, 'p':42}\n",
    "\n",
    "print(\"Dictionary: \", dic)\n",
    "\n",
    "#using sum() and values()\n",
    "print(\"sum: \",sum(dic.values()))"
   ]
  },
  {
   "cell_type": "markdown",
   "id": "9c2f31b0",
   "metadata": {},
   "source": [
    "Q3.Write a Python program to Merging two Dictionaries?"
   ]
  },
  {
   "cell_type": "code",
   "execution_count": 3,
   "id": "8c69efe5",
   "metadata": {},
   "outputs": [
    {
     "name": "stdout",
     "output_type": "stream",
     "text": [
      "After Merging: \n",
      "{'x': 13, 'y': 9, 'C': 5, 'B': 4, '2': 20}\n"
     ]
    }
   ],
   "source": [
    "dic1= {'x': 13, 'y' : 19, 'C': 5 }\n",
    "dic2= {'B': 4, 'y': 9, '2': 20}\n",
    "\n",
    "dic1.update(dic2)\n",
    "\n",
    "print(\"After Merging: \")\n",
    "print(dic1)"
   ]
  },
  {
   "cell_type": "markdown",
   "id": "38700109",
   "metadata": {},
   "source": [
    "Q4.Write a Python program to convert key-values list to flat dictionary?"
   ]
  },
  {
   "cell_type": "markdown",
   "id": "afa405e0",
   "metadata": {},
   "source": [
    "Q5.Write a Python program to insertion at the beginning in OrderedDict?"
   ]
  },
  {
   "cell_type": "code",
   "execution_count": 4,
   "id": "aca17160",
   "metadata": {},
   "outputs": [
    {
     "name": "stdout",
     "output_type": "stream",
     "text": [
      "Resultant Dictionary :\n",
      "OrderedDict([('D', '400'), ('A', '100'), ('B', '200'), ('C', '300')])\n"
     ]
    }
   ],
   "source": [
    "from collections import OrderedDict\n",
    "dic1 = OrderedDict([('A', '100'), ('B', '200'), ('C', '300')])\n",
    "insrt = OrderedDict([(\"D\", '400')])\n",
    "  \n",
    "final = OrderedDict(list(insrt.items()) + list(dic1.items()))\n",
    "  \n",
    "# print result\n",
    "print (\"Resultant Dictionary :\")\n",
    "print(final)"
   ]
  },
  {
   "cell_type": "markdown",
   "id": "70c98cbe",
   "metadata": {},
   "source": [
    "Q6.Write a Python program to check order of character in string using OrderedDict()?\n"
   ]
  },
  {
   "cell_type": "code",
   "execution_count": 7,
   "id": "f1481291",
   "metadata": {},
   "outputs": [
    {
     "name": "stdout",
     "output_type": "stream",
     "text": [
      "sorting on the basis of keys\n",
      "(1, 9) (2, 32) (3, 80) (4, 5) (5, 43) (6, 77) "
     ]
    }
   ],
   "source": [
    "key_value={}\n",
    "\n",
    "key_value[5] = 43      \n",
    "key_value[3] = 80\n",
    "key_value[6] = 77\n",
    "key_value[4] = 5\n",
    "key_value[1] = 9     \n",
    "key_value[2] = 32\n",
    " \n",
    "print(\"sorting on the basis of keys\")\n",
    "\n",
    "for i in sorted(key_value) :\n",
    "    print ((i, key_value[i]), end =\" \")"
   ]
  },
  {
   "cell_type": "code",
   "execution_count": null,
   "id": "8d75cd30",
   "metadata": {},
   "outputs": [],
   "source": []
  }
 ],
 "metadata": {
  "kernelspec": {
   "display_name": "Python 3 (ipykernel)",
   "language": "python",
   "name": "python3"
  },
  "language_info": {
   "codemirror_mode": {
    "name": "ipython",
    "version": 3
   },
   "file_extension": ".py",
   "mimetype": "text/x-python",
   "name": "python",
   "nbconvert_exporter": "python",
   "pygments_lexer": "ipython3",
   "version": "3.9.12"
  }
 },
 "nbformat": 4,
 "nbformat_minor": 5
}
